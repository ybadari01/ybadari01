{
 "cells": [
  {
   "cell_type": "code",
   "execution_count": 2,
   "metadata": {},
   "outputs": [],
   "source": [
    "import numpy as np\n",
    "import os\n",
    "import sys\n",
    "import matplotlib.pyplot as plt \n",
    "import matplotlib.patches as patches\n",
    "#os.chdir('/home/alex/Downloads/')\n",
    "#os.chdir('/home/alex/Downloads/')"
   ]
  },
  {
   "cell_type": "markdown",
   "metadata": {},
   "source": [
    "===Numpy===\n",
    "Numerical Python is an open source python library that's used in almost every fied Science and engineering\n",
    "It's the universal standard for working with numerical data in Python and it's at the core of the scientific Python and PyData ecosystems\n",
    "The num py API is extensively used in pandas,scipy,matplotlib,scikitlearn,sciki-image,and most other data science and scientific python packages.\n",
    "The numpy libraray contains multidimesional array and matrix data structures methods to efficiently operate on it\n",
    "Numpy can be used to perform a wide variety of mathematical operations on arrays.\n"
   ]
  },
  {
   "cell_type": "code",
   "execution_count": 4,
   "metadata": {},
   "outputs": [
    {
     "data": {
      "text/plain": [
       "array([0, 1, 2, 3, 4, 5])"
      ]
     },
     "execution_count": 4,
     "metadata": {},
     "output_type": "execute_result"
    }
   ],
   "source": [
    "a = np.arange(6)\n",
    "a"
   ]
  },
  {
   "cell_type": "markdown",
   "metadata": {},
   "source": [
    "Python list and Nummpy array\n",
    "1. Numpy gives us an enoromous range of fast and efficient ways of creating arrays and manipulating numerical data inside them.\n",
    "2.While Python lists can contains different data types within a single list all of the elements in a Numpy array should be homogenous\n",
    "3.Numpy arrays are faster and more compact than Python lists.\n",
    "4.An array consumes less memory and is convieneient to use .\n",
    "5.Numpy arrays are slower than lists when you append elements to the end\n"
   ]
  },
  {
   "cell_type": "markdown",
   "metadata": {},
   "source": [
    "What is an array\n",
    "An array is a central data structure of the Numpy library.An array is a grid of values.An array can be indexed by a tuple of integers , by booleans, by another array or by integers .The rank of the array is the number of dimensions.The shape of the array is a tuple of integers giving the size of array along each dimension"
   ]
  },
  {
   "cell_type": "markdown",
   "metadata": {},
   "source": [
    "Vectors , the 1D ArraysVector intilalization\n",
    "One way to create a Numpy array is to convert a Python list.The type will be auto deducted from the list element types\n"
   ]
  },
  {
   "cell_type": "code",
   "execution_count": 7,
   "metadata": {},
   "outputs": [
    {
     "data": {
      "text/plain": [
       "array([1., 2., 3., 4., 5., 6.])"
      ]
     },
     "execution_count": 7,
     "metadata": {},
     "output_type": "execute_result"
    }
   ],
   "source": [
    "a =np.array([1.,2.,3.,4.,5.,6.])\n",
    "a"
   ]
  }
 ],
 "metadata": {
  "kernelspec": {
   "display_name": "preppyenv",
   "language": "python",
   "name": "python3"
  },
  "language_info": {
   "codemirror_mode": {
    "name": "ipython",
    "version": 3
   },
   "file_extension": ".py",
   "mimetype": "text/x-python",
   "name": "python",
   "nbconvert_exporter": "python",
   "pygments_lexer": "ipython3",
   "version": "3.9.13"
  }
 },
 "nbformat": 4,
 "nbformat_minor": 2
}
