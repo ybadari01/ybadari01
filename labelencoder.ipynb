{
  "nbformat": 4,
  "nbformat_minor": 0,
  "metadata": {
    "colab": {
      "provenance": [],
      "authorship_tag": "ABX9TyM516TnrC9Y2ld3c+8kkEkA",
      "include_colab_link": true
    },
    "kernelspec": {
      "name": "python3",
      "display_name": "Python 3"
    },
    "language_info": {
      "name": "python"
    }
  },
  "cells": [
    {
      "cell_type": "markdown",
      "metadata": {
        "id": "view-in-github",
        "colab_type": "text"
      },
      "source": [
        "<a href=\"https://colab.research.google.com/github/ybadari01/ybadari01/blob/deeplearnind-develop/labelencoder.ipynb\" target=\"_parent\"><img src=\"https://colab.research.google.com/assets/colab-badge.svg\" alt=\"Open In Colab\"/></a>"
      ]
    },
    {
      "cell_type": "code",
      "execution_count": null,
      "metadata": {
        "id": "MC8S8H0yd_49"
      },
      "outputs": [],
      "source": [
        "###label encoding is used to convert ordinal data like categorizing by size like small,medium,large . copetition, gradescustomer level of satifaction"
      ]
    },
    {
      "cell_type": "code",
      "source": [
        "import pandas as pd\n",
        "from sklearn.preprocessing import LabelEncoder"
      ],
      "metadata": {
        "id": "36BnDBx7fLnw"
      },
      "execution_count": 2,
      "outputs": []
    },
    {
      "cell_type": "code",
      "source": [
        "from ast import Index\n",
        "import numpy as np\n",
        "#x=['small','medium','large']\n",
        "x=pd.Series([1,2,3,4],index=['a','b','c','d'])\n",
        "le=LabelEncoder()\n",
        "le.fit(x.index) # caluculates the parameters for the paarmeter like mean,sd\n",
        "x.index=le.transform(x.index) #le.fit_transform(x)\n",
        "print(x.index)\n",
        "x.index=le.inverse_transform(x.index)\n",
        "print(x.index)\n",
        "\n",
        "df=pd.DataFrame(data=['a','b','c','d'],columns=['x'])\n",
        "print(df['x'])\n",
        "le=LabelEncoder()\n",
        "df['x']=le.fit_transform(df['x'])\n",
        "print(df['x'])"
      ],
      "metadata": {
        "colab": {
          "base_uri": "https://localhost:8080/"
        },
        "id": "VGi1K363fcCA",
        "outputId": "2928dd2e-54af-492e-e740-f660c95c8e3f"
      },
      "execution_count": 6,
      "outputs": [
        {
          "output_type": "stream",
          "name": "stdout",
          "text": [
            "Index([0, 1, 2, 3], dtype='int64')\n",
            "Index(['a', 'b', 'c', 'd'], dtype='object')\n",
            "0    a\n",
            "1    b\n",
            "2    c\n",
            "3    d\n",
            "Name: x, dtype: object\n",
            "0    0\n",
            "1    1\n",
            "2    2\n",
            "3    3\n",
            "Name: x, dtype: int64\n"
          ]
        }
      ]
    },
    {
      "source": [
        "import pandas as pd\n",
        "\n",
        "# Sample data for two columns\n",
        "data = [[1, 10], [2, 20], [3, 30], [4, 40]]\n",
        "\n",
        "# Create the DataFrame\n",
        "df = pd.DataFrame(data, index=['a', 'b', 'c', 'd'], columns=['x', 'y'])\n",
        "\n",
        "print(df)"
      ],
      "cell_type": "code",
      "metadata": {
        "id": "t21LTKeykZ3C"
      },
      "execution_count": null,
      "outputs": []
    },
    {
      "cell_type": "markdown",
      "source": [],
      "metadata": {
        "id": "rXJvkpk3fGtO"
      }
    }
  ]
}