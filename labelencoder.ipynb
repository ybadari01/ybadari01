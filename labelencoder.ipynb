{
  "nbformat": 4,
  "nbformat_minor": 0,
  "metadata": {
    "colab": {
      "provenance": [],
      "authorship_tag": "ABX9TyOXYK0EmZDDi2z7FwfBgpoC",
      "include_colab_link": true
    },
    "kernelspec": {
      "name": "python3",
      "display_name": "Python 3"
    },
    "language_info": {
      "name": "python"
    }
  },
  "cells": [
    {
      "cell_type": "markdown",
      "metadata": {
        "id": "view-in-github",
        "colab_type": "text"
      },
      "source": [
        "<a href=\"https://colab.research.google.com/github/ybadari01/ybadari01/blob/deeplearnind-develop/labelencoder.ipynb\" target=\"_parent\"><img src=\"https://colab.research.google.com/assets/colab-badge.svg\" alt=\"Open In Colab\"/></a>"
      ]
    },
    {
      "cell_type": "code",
      "execution_count": 1,
      "metadata": {
        "id": "MC8S8H0yd_49"
      },
      "outputs": [],
      "source": [
        "###label encoding is used to convert ordinal data like categorizing by size like small,medium,large . copetition, gradescustomer level of satifaction"
      ]
    },
    {
      "cell_type": "code",
      "source": [
        "import pandas as pd\n",
        "from sklearn.preprocessing import LabelEncoder"
      ],
      "metadata": {
        "id": "36BnDBx7fLnw"
      },
      "execution_count": 2,
      "outputs": []
    },
    {
      "cell_type": "code",
      "source": [
        "from ast import Index\n",
        "import numpy as np\n",
        "#x=['small','medium','large']\n",
        "x=pd.Series([1,2,3,4],index=['a','b','c','d'])\n",
        "le=LabelEncoder()\n",
        "le.fit(x.index) # caluculates the parameters for the paarmeter like mean,sd\n",
        "x.index=le.transform(x.index) #le.fit_transform(x)\n",
        "print(x.index)\n",
        "x.index=le.inverse_transform(x.index)\n",
        "print(x.index)\n",
        "\n",
        "df=pd.DataFrame(data=['a','b','c','d'],columns=['x'])\n",
        "print(df)\n",
        "\n",
        "df=le.fit_transform(df)\n",
        "print(df)"
      ],
      "metadata": {
        "colab": {
          "base_uri": "https://localhost:8080/"
        },
        "id": "VGi1K363fcCA",
        "outputId": "8368a179-eae6-4d16-9791-892b0123a805"
      },
      "execution_count": 34,
      "outputs": [
        {
          "output_type": "stream",
          "name": "stdout",
          "text": [
            "Index([0, 1, 2, 3], dtype='int64')\n",
            "Index(['a', 'b', 'c', 'd'], dtype='object')\n",
            "   x\n",
            "0  a\n",
            "1  b\n",
            "2  c\n",
            "3  d\n",
            "[0 1 2 3]\n"
          ]
        },
        {
          "output_type": "stream",
          "name": "stderr",
          "text": [
            "/usr/local/lib/python3.10/dist-packages/sklearn/preprocessing/_label.py:110: DataConversionWarning: A column-vector y was passed when a 1d array was expected. Please change the shape of y to (n_samples, ), for example using ravel().\n",
            "  y = column_or_1d(y, warn=True)\n"
          ]
        }
      ]
    },
    {
      "source": [
        "import pandas as pd\n",
        "\n",
        "# Sample data for two columns\n",
        "data = [[1, 10], [2, 20], [3, 30], [4, 40]]\n",
        "\n",
        "# Create the DataFrame\n",
        "df = pd.DataFrame(data, index=['a', 'b', 'c', 'd'], columns=['x', 'y'])\n",
        "\n",
        "print(df)"
      ],
      "cell_type": "code",
      "metadata": {
        "id": "t21LTKeykZ3C"
      },
      "execution_count": null,
      "outputs": []
    },
    {
      "cell_type": "markdown",
      "source": [],
      "metadata": {
        "id": "rXJvkpk3fGtO"
      }
    }
  ]
}