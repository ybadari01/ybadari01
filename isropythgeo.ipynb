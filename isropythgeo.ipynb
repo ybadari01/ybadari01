{
 "cells": [
  {
   "cell_type": "code",
   "execution_count": 1,
   "metadata": {},
   "outputs": [
    {
     "name": "stdout",
     "output_type": "stream",
     "text": [
      "hey badari welcome matured man of 55 years\n",
      "hey matured welcozme badari man of 55 years\n"
     ]
    }
   ],
   "source": [
    "name ='badari'\n",
    "age=55\n",
    "strage='young' if age<30 else 'matured'\n",
    "print(f\"hey {name} welcome {strage} man of {age} years\")\n",
    "print(\"hey {} welcozme {} man of {} years\".format(strage,name,age))"
   ]
  },
  {
   "cell_type": "code",
   "execution_count": null,
   "metadata": {},
   "outputs": [],
   "source": [
    "# tuples are immutable just read anf not manipulate\n",
    "# list are mutable and can be modified  \n",
    "# dictionary is key value pair\n",
    "# set is collection of unique elements\n",
    "# frozenset is immutable set        \n",
    "# list comprehension\n",
    "# dictionary comprehension\n",
    "# set comprehension\n",
    "# generator comprehension\n",
    "# lambda function       \n",
    "# map function\n",
    "# filter function\n",
    "# reduce function\n",
    "# zip function\n",
    "# enumerate function\n",
    "# all function\n",
    "# any function\n",
    "# sorted function\n",
    "# min function\n",
    "# max function\n",
    "# sum function\n",
    "# reversed function\n",
    "# abs function\n",
    "# round function\n",
    "# pow function\n",
    "\n",
    "# list comprehension\n",
    "# [expression for item in iterable if condition]    \n",
    "# [expression for item in iterable]\n",
    "# [expression for item in iterable1 for item2 in iterable2]\n",
    "# [expression for item in iterable if condition1 and condition2]    \n",
    "# [expression if condition else expression for item in iterable]\n",
    "# [expression for item in iterable if condition else expression for item in iterable]\n",
    "# [expression for item in iterable if condition else expression if condition else expression for item in iterable]\n",
    "# [expression for item in iterable if condition else expression if condition else expression for item in iterable if condition else expression if condition else expression for item in iterable]\n",
    "# [expression for item in iterable if condition else expression if condition else expression for item in iterable if condition else expression if condition else expression for item in iterable if condition else expression if condition else expression for item in iterable]\n",
    "# [expression for item in iterable if condition else expression if condition else expression for item in iterable if condition else expression if condition else expression for item in iterable if condition else expression if condition else expression for item in iterable if condition else expression if condition else expression for item in iterable]\n",
    "# dictionary comprehension\n",
    "# {key:value for item in iterable}              \n",
    "# {key:value for item in iterable if condition}\n",
    "# {key:value for item in iterable if condition and condition}   "
   ]
  },
  {
   "cell_type": "code",
   "execution_count": null,
   "metadata": {},
   "outputs": [
    {
     "name": "stdout",
     "output_type": "stream",
     "text": [
      "<class 'dict'>\n",
      "{'kota': 'hh', 'badari': '2', 'sri': '3'}\n",
      "<class 'map'>\n",
      "['__class__', '__delattr__', '__dir__', '__doc__', '__eq__', '__format__', '__ge__', '__getattribute__', '__gt__', '__hash__', '__init__', '__init_subclass__', '__iter__', '__le__', '__lt__', '__ne__', '__new__', '__next__', '__reduce__', '__reduce_ex__', '__repr__', '__setattr__', '__sizeof__', '__str__', '__subclasshook__']\n",
      "dict_values(['hh', '2', '3'])\n"
     ]
    }
   ],
   "source": [
    "n={'kota':'hh','badari':'2','sri':'3'}\n",
    "print(type(n))# should iterable list,tuple,set,dictionary\n",
    "print(n)    \n",
    "ll=map(lambda x:x[0],n.items()) # map returnas map object which is iterable by next(),list(),tuple(),set(), for loop\n",
    "print(type(ll)) \n",
    "print(dir(ll))\n",
    "print(n.values())\n",
    "# print(list(ll))\n",
    "# print({key:value for key,value in n.items()})\n",
    "# print({key:value for key,value in n.items() if value=='2'})"
   ]
  },
  {
   "cell_type": "code",
   "execution_count": null,
   "metadata": {},
   "outputs": [
    {
     "name": "stdout",
     "output_type": "stream",
     "text": [
      "my name is badarii am a software engineer\n"
     ]
    }
   ],
   "source": [
    "a=\"\"\"Hey i am amultiliner hooo rayyyyy \n",
    "i am a multiline string\n",
    "i am a multiline string\"\"\"\n",
    "# print(a)\n",
    "# for i in a:\n",
    "#     print(i)\n",
    "b= 'my name is badari'+\\\n",
    "    'i am a software engineer' # escape character\n",
    "print(b)"
   ]
  },
  {
   "cell_type": "markdown",
   "metadata": {},
   "source": [
    "###multiline under \"\"\" \"\"\""
   ]
  }
 ],
 "metadata": {
  "kernelspec": {
   "display_name": "preppyenv",
   "language": "python",
   "name": "python3"
  },
  "language_info": {
   "codemirror_mode": {
    "name": "ipython",
    "version": 3
   },
   "file_extension": ".py",
   "mimetype": "text/x-python",
   "name": "python",
   "nbconvert_exporter": "python",
   "pygments_lexer": "ipython3",
   "version": "3.9.13"
  }
 },
 "nbformat": 4,
 "nbformat_minor": 2
}
